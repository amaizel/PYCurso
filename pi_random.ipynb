{
 "cells": [
  {
   "cell_type": "code",
   "execution_count": 52,
   "metadata": {
    "collapsed": false
   },
   "outputs": [],
   "source": [
    "def esfera(x,y):\n",
    "    if y*y < 1.0 - x*x:\n",
    "       return 1.0\n",
    "    else: \n",
    "       return 0.0\n",
    "    return\n",
    "\n",
    "def expo(x,y):\n",
    "    if y < np.exp(-x):\n",
    "        return 1.0\n",
    "    else:\n",
    "        return 0.0\n",
    "\n",
    "import numpy as np\n",
    "import scipy as sp\n",
    "import matplotlib.pyplot as plt\n",
    "\n",
    "Nmax = 10000\n",
    "pi  = 0\n",
    "convergencia = []\n",
    "erro = []\n",
    "for N in range(Nmax):\n",
    "    x , y = sp.rand(),sp.rand()\n",
    "    Aes = esfera(x,y)\n",
    "    pi += 4*Aes/Nmax\n",
    "    \n",
    "    erro.append(np.pi - pi)\n",
    "    convergencia.append(pi)\n",
    "    if Aes == 1:\n",
    "       plt.plot(y,x,'.',color='red')\n",
    "\n",
    "plt.plot(np.sqrt(1.0 - np.linspace(0,1,1000)*np.linspace(0,1,1000)),np.linspace(0,1,1000), color='black')\n",
    "plt.show()\n",
    "\n",
    "\n",
    "plt.plot(range(Nmax),convergencia)\n",
    "plt.plot(range(Nmax),erro)\n",
    "plt.show()"
   ]
  },
  {
   "cell_type": "code",
   "execution_count": 6,
   "metadata": {
    "collapsed": false
   },
   "outputs": [
    {
     "data": {
      "text/plain": [
       "0.8039080894816127"
      ]
     },
     "execution_count": 6,
     "metadata": {},
     "output_type": "execute_result"
    }
   ],
   "source": []
  },
  {
   "cell_type": "code",
   "execution_count": null,
   "metadata": {
    "collapsed": true
   },
   "outputs": [],
   "source": []
  }
 ],
 "metadata": {
  "kernelspec": {
   "display_name": "Python 2",
   "language": "python",
   "name": "python2"
  },
  "language_info": {
   "codemirror_mode": {
    "name": "ipython",
    "version": 2
   },
   "file_extension": ".py",
   "mimetype": "text/x-python",
   "name": "python",
   "nbconvert_exporter": "python",
   "pygments_lexer": "ipython2",
   "version": "2.7.6"
  }
 },
 "nbformat": 4,
 "nbformat_minor": 0
}
