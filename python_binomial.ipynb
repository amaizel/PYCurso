{
 "cells": [
  {
   "cell_type": "code",
   "execution_count": 124,
   "metadata": {
    "collapsed": false
   },
   "outputs": [],
   "source": [
    "import matplotlib.pyplot as plt\n",
    "import numpy as np\n",
    "import scipy as sp\n",
    "\n",
    "n = []\n",
    "N = 50\n",
    "p = 0.5\n",
    "media = N*p\n",
    "sigma = N*p*(1-p)\n",
    "nsamples = 10000\n",
    "\n",
    "\n",
    "for samples in range(nsamples):\n",
    "    ninst = 0\n",
    "    for i in range(N):\n",
    "        #if sp.rand() < p:\n",
    "            #ninst +=1\n",
    "        ninst = np.random.binomial(N,p) \n",
    "    n.append(ninst)\n",
    "\n",
    "\n",
    "plt.hist(n,N,range=(0,N),normed=True,align='left')\n",
    "plt.plot(np.linspace(0,N,10000), np.exp(-(np.linspace(0,N,10000) - media)**2/(2.0*sigma))/(np.sqrt(2.0*np.pi*sigma)),'-',color='red')\n",
    "plt.show()\n"
   ]
  },
  {
   "cell_type": "code",
   "execution_count": null,
   "metadata": {
    "collapsed": true
   },
   "outputs": [],
   "source": []
  },
  {
   "cell_type": "code",
   "execution_count": null,
   "metadata": {
    "collapsed": true
   },
   "outputs": [],
   "source": []
  }
 ],
 "metadata": {
  "kernelspec": {
   "display_name": "Python 2",
   "language": "python",
   "name": "python2"
  },
  "language_info": {
   "codemirror_mode": {
    "name": "ipython",
    "version": 2
   },
   "file_extension": ".py",
   "mimetype": "text/x-python",
   "name": "python",
   "nbconvert_exporter": "python",
   "pygments_lexer": "ipython2",
   "version": "2.7.6"
  }
 },
 "nbformat": 4,
 "nbformat_minor": 0
}
